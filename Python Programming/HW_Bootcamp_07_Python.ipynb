{
  "nbformat": 4,
  "nbformat_minor": 0,
  "metadata": {
    "colab": {
      "provenance": []
    },
    "kernelspec": {
      "name": "python3",
      "display_name": "Python 3"
    },
    "language_info": {
      "name": "python"
    }
  },
  "cells": [
    {
      "cell_type": "markdown",
      "source": [
        "# **HW01 - chatbot to order pizza**"
      ],
      "metadata": {
        "id": "jMuZZL-j8vbJ"
      }
    },
    {
      "cell_type": "code",
      "execution_count": null,
      "metadata": {
        "colab": {
          "base_uri": "https://localhost:8080/"
        },
        "id": "plvqzsv_8EDx",
        "outputId": "ab1c7383-ebac-4be3-d508-f878bb9957d4"
      },
      "outputs": [
        {
          "output_type": "stream",
          "name": "stdout",
          "text": [
            "Hello! Please pizza\n",
            "1. Hawaiian - 10$\n",
            "Press 1\n",
            "2. Tom Yum Goong - 15$\n",
            "Press 2\n",
            "3. Super Sea Food - 20$\n",
            "Press 3\n",
            "If you want to exit please type : EXIT\n",
            "Your menu : 1\n",
            "Hawaiian\n",
            "Your Total :  10 $\n",
            "Your menu : 1\n",
            "Hawaiian\n",
            "Your Total :  20 $\n",
            "Your menu : 2\n",
            "Tom Yum Goong\n",
            "Your Total :  35 $\n",
            "Your menu : 2\n",
            "Tom Yum Goong\n",
            "Your Total :  50 $\n",
            "Your menu : 3\n",
            "Super Sea Food\n",
            "Your Total : 58 $\n",
            "Your menu : 3\n",
            "Super Sea Food\n",
            "Your Total : 66 $\n",
            "Your menu : EXIT\n",
            "------------------------------------------------------\n",
            "Your Total : 66 $\n",
            "Hawaiian : 2 Orders\n",
            "Tom Yum Goong : 2 Orders\n",
            "Super Sea Food : 2 Orders\n",
            "------------------------------------------------------\n"
          ]
        }
      ],
      "source": [
        "def pizza_chatbot():\n",
        "    total_bill = 0\n",
        "    pizza_list = {\n",
        "        \"Hawaiian\" : 0,\n",
        "        \"Tom Yum Goong\" : 0,\n",
        "        \"Super Sea Food\" : 0\n",
        "    }\n",
        "\n",
        "    print(\"Hello! Please pizza\")\n",
        "    print(\"1. Hawaiian - 10$\")\n",
        "    print(\"Press 1\")\n",
        "    print(\"2. Tom Yum Goong - 15$\")\n",
        "    print(\"Press 2\")\n",
        "    print(\"3. Super Sea Food - 20$\")\n",
        "    print(\"Press 3\")\n",
        "    print(\"If you want to exit please type : EXIT\")\n",
        "\n",
        "    while(True):\n",
        "        choose = input(\"Your menu : \")\n",
        "        convert = str(choose)\n",
        "        if (convert == \"1\"):\n",
        "            print(\"Hawaiian\")\n",
        "            pizza_list[\"Hawaiian\"] += 1\n",
        "            total_bill = total_bill + 10\n",
        "            print(\"Your Total : \", total_bill, \"$\")\n",
        "        elif (convert == \"2\"):\n",
        "            print(\"Tom Yum Goong\")\n",
        "            pizza_list[\"Tom Yum Goong\"]+= 1\n",
        "            total_bill = total_bill + 15\n",
        "            print(\"Your Total : \", total_bill, \"$\")\n",
        "        elif (convert == \"3\"):\n",
        "            print(\"Super Sea Food\")\n",
        "            pizza_list[\"Super Sea Food\"] += 1\n",
        "            total_bill = total_bill + 8\n",
        "            print(\"Your Total :\", total_bill, \"$\")\n",
        "        elif (convert == \"EXIT\" or convert == \"exit\"):\n",
        "            print(\"------------------------------------------------------\")\n",
        "            print(\"Your Total :\", total_bill, \"$\")\n",
        "            print(\"Hawaiian :\", pizza_list[\"Hawaiian\"], \"Orders\")\n",
        "            print(\"Tom Yum Goong :\", pizza_list[\"Tom Yum Goong\"], \"Orders\")\n",
        "            print(\"Super Sea Food :\", pizza_list[\"Super Sea Food\"], \"Orders\")\n",
        "            print(\"------------------------------------------------------\")\n",
        "            break\n",
        "        else:\n",
        "            print(\"ERROR\")\n",
        "\n",
        "pizza_chatbot()"
      ]
    },
    {
      "cell_type": "markdown",
      "source": [
        "# **HW02 - pao ying chub**"
      ],
      "metadata": {
        "id": "jnouJEpX8yuZ"
      }
    },
    {
      "cell_type": "code",
      "source": [
        "import random\n",
        "def Pao_Ying_Chub_Game():\n",
        "    Player_Score = 0\n",
        "    Bot_Score = 0\n",
        "    Tied_time = 0\n",
        "    numberGame = 0\n",
        "    options = ['scissors', 'paper', 'rock']\n",
        "\n",
        "    print(\"Let's Play scissors-paper-rock\")\n",
        "    print(\"Let's Choose\")\n",
        "    print(\"1. Scissors\")\n",
        "    print(\"Press 1\")\n",
        "    print(\"2. Paper\")\n",
        "    print(\"Press 2\")\n",
        "    print(\"3. Rock\")\n",
        "    print(\"Press 3\")\n",
        "    print(\"If you want to exit please type : EXIT\")\n",
        "\n",
        "    while True:\n",
        "        randoms = random.choice(options)\n",
        "        player_choose = input(\"Your answers : \")\n",
        "        convert = str(player_choose)\n",
        "        if (convert == \"1\" and randoms == \"paper\" or\n",
        "            convert == \"2\" and randoms == \"rock\" or\n",
        "            convert == \"3\" and randoms == \"scissors\"):\n",
        "            print(\"You won\")\n",
        "            Player_Score += 1\n",
        "            numberGame += 1\n",
        "        elif (convert == \"1\" and randoms == \"rock\" or\n",
        "              convert == \"2\" and randoms == \"scissors\" or\n",
        "              convert == \"3\" and randoms == \"paper\"):\n",
        "            print(\"I won\")\n",
        "            Bot_Score += 1\n",
        "            numberGame += 1\n",
        "        elif (convert == \"1\" and randoms == \"scissors\" or\n",
        "              convert == \"2\" and randoms == \"paper\" or\n",
        "              convert == \"3\" and randoms == \"rock\"):\n",
        "            print(\"Owww Tied\")\n",
        "            Tied_time += 1\n",
        "            numberGame += 1\n",
        "        elif (convert == \"EXIT\" or convert == \"exit\"):\n",
        "            print(\"------------------------------------------------------\")\n",
        "            print(\"Thanks For Playing our lonely chat bot game LOL\")\n",
        "            print(\"Player Score : \", Player_Score)\n",
        "            print(\"Bot Score : \", Bot_Score)\n",
        "            print(\"Tied Time : \", Tied_time)\n",
        "            print(\"Number Game Played : \", numberGame)\n",
        "            print(\"------------------------------------------------------\")\n",
        "            break\n",
        "        else:\n",
        "            print(\"What are you doing ???\")\n",
        "\n",
        "Pao_Ying_Chub_Game()"
      ],
      "metadata": {
        "colab": {
          "base_uri": "https://localhost:8080/"
        },
        "id": "47vcO5TX805o",
        "outputId": "fff7d22e-1701-4d1f-93b5-f6ee69f25efc"
      },
      "execution_count": null,
      "outputs": [
        {
          "output_type": "stream",
          "name": "stdout",
          "text": [
            "Let's Play scissors-paper-rock\n",
            "Let's Choose\n",
            "1. Scissors\n",
            "Press 1\n",
            "2. Paper\n",
            "Press 2\n",
            "3. Rock\n",
            "Press 3\n",
            "If you want to exit please type : EXIT\n",
            "Your answers : 1\n",
            "You won\n",
            "Your answers : 2\n",
            "You won\n",
            "Your answers : 3\n",
            "You won\n",
            "Your answers : EXIT\n",
            "------------------------------------------------------\n",
            "Thanks For Playing our lonely chat bot game LOL\n",
            "Player Score :  3\n",
            "Bot Score :  0\n",
            "Tied Time :  0\n",
            "Number Game Played :  3\n",
            "------------------------------------------------------\n"
          ]
        }
      ]
    },
    {
      "cell_type": "markdown",
      "source": [
        "# **HW03 - create new ATM class**"
      ],
      "metadata": {
        "id": "CxJ-3Ljv81HB"
      }
    },
    {
      "cell_type": "code",
      "source": [
        "class ATM:\n",
        "    def __init__(self, id, name, balance, card, carddate, phone_num):\n",
        "        self.id = id\n",
        "        self.name = name\n",
        "        self.balance = balance\n",
        "        self.card = card\n",
        "        self.carddate = carddate\n",
        "\n",
        "    def Auth(self):\n",
        "        otp_random = str(random.randint(000000,999999))\n",
        "        print(otp_random)\n",
        "        while True:\n",
        "            user_input = input(\"OTP : \")\n",
        "            if (user_input == otp_random):\n",
        "                print(\"Auth : Passed\")\n",
        "                break\n",
        "            else :\n",
        "                print(\"Auth : Failed\")\n",
        "                print(\"Please Do It Again\")\n",
        "\n",
        "    def checkBalance(self):\n",
        "        print(f\"ID : {self.id}\")\n",
        "        print(f\"Name : {self.name}\")\n",
        "        print(f\"Balance : {self.balance}\")\n",
        "        print(f\"Card : {self.card}\")\n",
        "        print(f\"CardExp : {self.carddate}\")\n",
        "\n",
        "\n",
        "    def deposit(self):\n",
        "        while True :\n",
        "            depo_input = int(input(\"Deposit : \"))\n",
        "            if (depo_input == 0) :\n",
        "                print(\"Please enter again\")\n",
        "            elif (depo_input < 100):\n",
        "                print(\"Please enter above 100\")\n",
        "            else :\n",
        "                self.balance += depo_input\n",
        "                print(f\"ID : {self.id}\")\n",
        "                print(f\"Name : {self.name}\")\n",
        "                print(f\"Deposit : {depo_input}\")\n",
        "                print(f\"Balance : {self.balance}\")\n",
        "                break\n",
        "\n",
        "    def withdrawal(self):\n",
        "        while True :\n",
        "            wit_input = int(input(\"Withdrawal : \"))\n",
        "            if (wit_input == 0) :\n",
        "                print(\"Please enter again\")\n",
        "            elif (wit_input < 100):\n",
        "                print(\"Please enter above 100\")\n",
        "            else :\n",
        "                self.balance -= wit_input\n",
        "                print(f\"ID : {self.id}\")\n",
        "                print(f\"Name : {self.name}\")\n",
        "                print(f\"Withdrawal : {wit_input}\")\n",
        "                print(f\"Balance : {self.balance}\")\n",
        "                break\n",
        "\n",
        "    def transfer(self):\n",
        "        user_transfer = input(\"Transfer To : \")\n",
        "        while True :\n",
        "            balance_transfer = int(input(\"Balance : \"))\n",
        "            if (balance_transfer == 0) :\n",
        "                print(\"Please enter again\")\n",
        "            elif (balance_transfer < 100):\n",
        "                print(\"Please enter above 100\")\n",
        "            else :\n",
        "                self.balance -= balance_transfer\n",
        "                print(f\"Name : {self.name} Transfer {balance_transfer} To {user_transfer}\")\n",
        "                print(f\"ID : {self.id}\")\n",
        "                print(f\"Name : {self.name}\")\n",
        "                print(f\"Balance : {self.balance}\")\n",
        "                break"
      ],
      "metadata": {
        "id": "lrRVG3o28222"
      },
      "execution_count": null,
      "outputs": []
    },
    {
      "cell_type": "code",
      "source": [
        "user1 = ATM(1, \"A\", 1000, \"1111-1111-1111-1111\", \"01-01-2565\", \"111-111-1111\")\n",
        "user2 = ATM(2, \"B\", 500,  \"2222-2222-2222-2222\", \"02-01-2565\", \"222-222-2222\")\n",
        "user3 = ATM(3, \"B\", 2000, \"3333-3333-3333-3333\", \"03-01-2565\", \"333-333-3333\")"
      ],
      "metadata": {
        "id": "RgYpzEAnUeGE"
      },
      "execution_count": null,
      "outputs": []
    },
    {
      "cell_type": "code",
      "source": [
        "user1.Auth()"
      ],
      "metadata": {
        "colab": {
          "base_uri": "https://localhost:8080/"
        },
        "id": "kxZA2-pYUb1L",
        "outputId": "a276e2c2-f3d7-47b0-cac9-42f548190876"
      },
      "execution_count": null,
      "outputs": [
        {
          "output_type": "stream",
          "name": "stdout",
          "text": [
            "446315\n",
            "OTP : 7451\n",
            "Auth : Failed\n",
            "Please Do It Again\n",
            "OTP : 446315\n",
            "Auth : Passed\n"
          ]
        }
      ]
    },
    {
      "cell_type": "code",
      "source": [
        "user1.checkBalance()"
      ],
      "metadata": {
        "colab": {
          "base_uri": "https://localhost:8080/"
        },
        "id": "uCwK5hTWYYJN",
        "outputId": "2c82ffb5-f7f4-4375-9497-6c47a8c55665"
      },
      "execution_count": null,
      "outputs": [
        {
          "output_type": "stream",
          "name": "stdout",
          "text": [
            "ID : 1\n",
            "Name : A\n",
            "Balance : 1000\n",
            "Card : 1111-1111-1111-1111\n",
            "CardExp : 01-01-2565\n"
          ]
        }
      ]
    },
    {
      "cell_type": "code",
      "source": [
        "user2.deposit()"
      ],
      "metadata": {
        "colab": {
          "base_uri": "https://localhost:8080/"
        },
        "id": "5W855tMNYYUP",
        "outputId": "250bf64d-004a-408d-b9d9-1b1911839bdf"
      },
      "execution_count": null,
      "outputs": [
        {
          "output_type": "stream",
          "name": "stdout",
          "text": [
            "Deposit : 0\n",
            "Please enter again\n",
            "Deposit : 20\n",
            "Please enter above 100\n",
            "Deposit : 500\n",
            "ID : 2\n",
            "Name : B\n",
            "Deposit : 500\n",
            "Balance : 2000\n"
          ]
        }
      ]
    },
    {
      "cell_type": "code",
      "source": [
        "user3.withdrawal()"
      ],
      "metadata": {
        "colab": {
          "base_uri": "https://localhost:8080/"
        },
        "id": "NF-cTntwYYfB",
        "outputId": "820b672c-9dac-4446-b05e-d366cd1501b5"
      },
      "execution_count": null,
      "outputs": [
        {
          "output_type": "stream",
          "name": "stdout",
          "text": [
            "Withdrawal : 0\n",
            "Please enter again\n",
            "Withdrawal : 20\n",
            "Please enter above 100\n",
            "Withdrawal : 250\n",
            "ID : 3\n",
            "Name : B\n",
            "Withdrawal : 250\n",
            "Balance : 1399\n"
          ]
        }
      ]
    },
    {
      "cell_type": "code",
      "source": [
        "user3.transfer()"
      ],
      "metadata": {
        "colab": {
          "base_uri": "https://localhost:8080/"
        },
        "id": "fDhqbjyrYhbz",
        "outputId": "5f10cbca-2140-4bd3-fa19-6c87f6227b59"
      },
      "execution_count": null,
      "outputs": [
        {
          "output_type": "stream",
          "name": "stdout",
          "text": [
            "Transfer To : A\n",
            "Balance : 20\n",
            "Please enter above 100\n",
            "Balance : 0\n",
            "Please enter again\n",
            "Balance : 101\n",
            "Name : B Transfer 101 To A\n",
            "ID : 3\n",
            "Name : B\n",
            "Balance : 1649\n"
          ]
        }
      ]
    }
  ]
}